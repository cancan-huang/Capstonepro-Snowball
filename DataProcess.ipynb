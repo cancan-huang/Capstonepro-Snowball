{
 "cells": [
  {
   "cell_type": "code",
   "execution_count": 2,
   "metadata": {},
   "outputs": [],
   "source": [
    "# import the packages\n",
    "import pandas as pd\n",
    "import numpy as np\n",
    "import pickle\n",
    "import glob,os"
   ]
  },
  {
   "cell_type": "code",
   "execution_count": 117,
   "metadata": {},
   "outputs": [],
   "source": [
    "rawdf = pd.read_csv('follower-tst-xinlitai.csv')"
   ]
  },
  {
   "cell_type": "code",
   "execution_count": 6,
   "metadata": {},
   "outputs": [
    {
     "data": {
      "text/html": [
       "<div>\n",
       "<style scoped>\n",
       "    .dataframe tbody tr th:only-of-type {\n",
       "        vertical-align: middle;\n",
       "    }\n",
       "\n",
       "    .dataframe tbody tr th {\n",
       "        vertical-align: top;\n",
       "    }\n",
       "\n",
       "    .dataframe thead th {\n",
       "        text-align: right;\n",
       "    }\n",
       "</style>\n",
       "<table border=\"1\" class=\"dataframe\">\n",
       "  <thead>\n",
       "    <tr style=\"text-align: right;\">\n",
       "      <th></th>\n",
       "      <th>标题</th>\n",
       "      <th>用户_链接</th>\n",
       "      <th>用户</th>\n",
       "      <th>字段</th>\n",
       "      <th>页面网址</th>\n",
       "      <th>Unnamed: 5</th>\n",
       "      <th>Unnamed: 6</th>\n",
       "      <th>Unnamed: 7</th>\n",
       "      <th>Unnamed: 8</th>\n",
       "    </tr>\n",
       "  </thead>\n",
       "  <tbody>\n",
       "    <tr>\n",
       "      <th>0</th>\n",
       "      <td>白马大侠</td>\n",
       "      <td>https://xueqiu.com/4224679077</td>\n",
       "      <td>24913 粉丝|120 关注|2175 帖子</td>\n",
       "      <td>价值选股，趋势定仓</td>\n",
       "      <td>https://xueqiu.com/u/6405911882#/follow</td>\n",
       "      <td>NaN</td>\n",
       "      <td>NaN</td>\n",
       "      <td>NaN</td>\n",
       "      <td>NaN</td>\n",
       "    </tr>\n",
       "    <tr>\n",
       "      <th>1</th>\n",
       "      <td>百创资本陈子仪</td>\n",
       "      <td>https://xueqiu.com/4403644081</td>\n",
       "      <td>33110 粉丝|172 关注|155 帖子</td>\n",
       "      <td>我从2001年开始投资，2001年到2008年主要投资A股B股，2009年开始专注港股和美股...</td>\n",
       "      <td>https://xueqiu.com/u/6405911882#/follow</td>\n",
       "      <td>NaN</td>\n",
       "      <td>NaN</td>\n",
       "      <td>NaN</td>\n",
       "      <td>NaN</td>\n",
       "    </tr>\n",
       "    <tr>\n",
       "      <th>2</th>\n",
       "      <td>木文田</td>\n",
       "      <td>https://xueqiu.com/1621361008</td>\n",
       "      <td>13871 粉丝|164 关注|665 帖子</td>\n",
       "      <td>证券市场里的钱是一种很骄傲的东西，它会用深入骨髓的眼光透视你灵魂深处的弱点，然后化身出最诱惑...</td>\n",
       "      <td>https://xueqiu.com/u/6405911882#/follow</td>\n",
       "      <td>NaN</td>\n",
       "      <td>NaN</td>\n",
       "      <td>NaN</td>\n",
       "      <td>NaN</td>\n",
       "    </tr>\n",
       "    <tr>\n",
       "      <th>3</th>\n",
       "      <td>价值事务所</td>\n",
       "      <td>https://xueqiu.com/1859139457</td>\n",
       "      <td>37699 粉丝|48 关注|1034 帖子</td>\n",
       "      <td>微信公众号：价值事务所</td>\n",
       "      <td>https://xueqiu.com/u/6405911882#/follow</td>\n",
       "      <td>NaN</td>\n",
       "      <td>NaN</td>\n",
       "      <td>NaN</td>\n",
       "      <td>NaN</td>\n",
       "    </tr>\n",
       "    <tr>\n",
       "      <th>4</th>\n",
       "      <td>青侨阳光</td>\n",
       "      <td>https://xueqiu.com/houqiang</td>\n",
       "      <td>51157 粉丝|233 关注|292 帖子</td>\n",
       "      <td>聚焦医药。谦逊而坚韧，冗余而穿透。</td>\n",
       "      <td>https://xueqiu.com/u/6405911882#/follow</td>\n",
       "      <td>NaN</td>\n",
       "      <td>NaN</td>\n",
       "      <td>NaN</td>\n",
       "      <td>NaN</td>\n",
       "    </tr>\n",
       "  </tbody>\n",
       "</table>\n",
       "</div>"
      ],
      "text/plain": [
       "        标题                          用户_链接                       用户  \\\n",
       "0     白马大侠  https://xueqiu.com/4224679077  24913 粉丝|120 关注|2175 帖子   \n",
       "1  百创资本陈子仪  https://xueqiu.com/4403644081   33110 粉丝|172 关注|155 帖子   \n",
       "2      木文田  https://xueqiu.com/1621361008   13871 粉丝|164 关注|665 帖子   \n",
       "3    价值事务所  https://xueqiu.com/1859139457   37699 粉丝|48 关注|1034 帖子   \n",
       "4     青侨阳光    https://xueqiu.com/houqiang   51157 粉丝|233 关注|292 帖子   \n",
       "\n",
       "                                                  字段  \\\n",
       "0                                          价值选股，趋势定仓   \n",
       "1  我从2001年开始投资，2001年到2008年主要投资A股B股，2009年开始专注港股和美股...   \n",
       "2  证券市场里的钱是一种很骄傲的东西，它会用深入骨髓的眼光透视你灵魂深处的弱点，然后化身出最诱惑...   \n",
       "3                                        微信公众号：价值事务所   \n",
       "4                                  聚焦医药。谦逊而坚韧，冗余而穿透。   \n",
       "\n",
       "                                      页面网址 Unnamed: 5 Unnamed: 6 Unnamed: 7  \\\n",
       "0  https://xueqiu.com/u/6405911882#/follow        NaN        NaN        NaN   \n",
       "1  https://xueqiu.com/u/6405911882#/follow        NaN        NaN        NaN   \n",
       "2  https://xueqiu.com/u/6405911882#/follow        NaN        NaN        NaN   \n",
       "3  https://xueqiu.com/u/6405911882#/follow        NaN        NaN        NaN   \n",
       "4  https://xueqiu.com/u/6405911882#/follow        NaN        NaN        NaN   \n",
       "\n",
       "  Unnamed: 8  \n",
       "0        NaN  \n",
       "1        NaN  \n",
       "2        NaN  \n",
       "3        NaN  \n",
       "4        NaN  "
      ]
     },
     "execution_count": 6,
     "metadata": {},
     "output_type": "execute_result"
    }
   ],
   "source": [
    "rawdf.head()"
   ]
  },
  {
   "cell_type": "code",
   "execution_count": 129,
   "metadata": {},
   "outputs": [
    {
     "data": {
      "text/plain": [
       "\"\\ndel rawdf['标题']\\ndel rawdf['字段']\\ndel rawdf['Unnamed: 5']\\ndel rawdf['Unnamed: 6']\\ndel rawdf['Unnamed: 7']\\ndel rawdf['Unnamed: 8']\\n\""
      ]
     },
     "execution_count": 129,
     "metadata": {},
     "output_type": "execute_result"
    }
   ],
   "source": [
    "# 获取其中的follwing和用户\n",
    "# 只保留其中的两列，一列是用户连接 一列页面网址，用户的粉丝数和关注数帖子数留存下来，拆分开作为备用数据，标题可以去掉\n",
    "'''\n",
    "del rawdf['标题']\n",
    "del rawdf['字段']\n",
    "del rawdf['Unnamed: 5']\n",
    "del rawdf['Unnamed: 6']\n",
    "del rawdf['Unnamed: 7']\n",
    "del rawdf['Unnamed: 8']\n",
    "'''"
   ]
  },
  {
   "cell_type": "code",
   "execution_count": 120,
   "metadata": {},
   "outputs": [
    {
     "data": {
      "text/html": [
       "<div>\n",
       "<style scoped>\n",
       "    .dataframe tbody tr th:only-of-type {\n",
       "        vertical-align: middle;\n",
       "    }\n",
       "\n",
       "    .dataframe tbody tr th {\n",
       "        vertical-align: top;\n",
       "    }\n",
       "\n",
       "    .dataframe thead th {\n",
       "        text-align: right;\n",
       "    }\n",
       "</style>\n",
       "<table border=\"1\" class=\"dataframe\">\n",
       "  <thead>\n",
       "    <tr style=\"text-align: right;\">\n",
       "      <th></th>\n",
       "      <th>用户_链接</th>\n",
       "      <th>用户</th>\n",
       "      <th>页面网址</th>\n",
       "    </tr>\n",
       "  </thead>\n",
       "  <tbody>\n",
       "    <tr>\n",
       "      <th>0</th>\n",
       "      <td>https://xueqiu.com/4224679077</td>\n",
       "      <td>24913 粉丝|120 关注|2175 帖子</td>\n",
       "      <td>https://xueqiu.com/u/6405911882#/follow</td>\n",
       "    </tr>\n",
       "    <tr>\n",
       "      <th>1</th>\n",
       "      <td>https://xueqiu.com/4403644081</td>\n",
       "      <td>33110 粉丝|172 关注|155 帖子</td>\n",
       "      <td>https://xueqiu.com/u/6405911882#/follow</td>\n",
       "    </tr>\n",
       "    <tr>\n",
       "      <th>2</th>\n",
       "      <td>https://xueqiu.com/1621361008</td>\n",
       "      <td>13871 粉丝|164 关注|665 帖子</td>\n",
       "      <td>https://xueqiu.com/u/6405911882#/follow</td>\n",
       "    </tr>\n",
       "    <tr>\n",
       "      <th>3</th>\n",
       "      <td>https://xueqiu.com/1859139457</td>\n",
       "      <td>37699 粉丝|48 关注|1034 帖子</td>\n",
       "      <td>https://xueqiu.com/u/6405911882#/follow</td>\n",
       "    </tr>\n",
       "    <tr>\n",
       "      <th>4</th>\n",
       "      <td>https://xueqiu.com/houqiang</td>\n",
       "      <td>51157 粉丝|233 关注|292 帖子</td>\n",
       "      <td>https://xueqiu.com/u/6405911882#/follow</td>\n",
       "    </tr>\n",
       "  </tbody>\n",
       "</table>\n",
       "</div>"
      ],
      "text/plain": [
       "                           用户_链接                       用户  \\\n",
       "0  https://xueqiu.com/4224679077  24913 粉丝|120 关注|2175 帖子   \n",
       "1  https://xueqiu.com/4403644081   33110 粉丝|172 关注|155 帖子   \n",
       "2  https://xueqiu.com/1621361008   13871 粉丝|164 关注|665 帖子   \n",
       "3  https://xueqiu.com/1859139457   37699 粉丝|48 关注|1034 帖子   \n",
       "4    https://xueqiu.com/houqiang   51157 粉丝|233 关注|292 帖子   \n",
       "\n",
       "                                      页面网址  \n",
       "0  https://xueqiu.com/u/6405911882#/follow  \n",
       "1  https://xueqiu.com/u/6405911882#/follow  \n",
       "2  https://xueqiu.com/u/6405911882#/follow  \n",
       "3  https://xueqiu.com/u/6405911882#/follow  \n",
       "4  https://xueqiu.com/u/6405911882#/follow  "
      ]
     },
     "execution_count": 120,
     "metadata": {},
     "output_type": "execute_result"
    }
   ],
   "source": [
    "rawdf.head()"
   ]
  },
  {
   "cell_type": "code",
   "execution_count": 121,
   "metadata": {},
   "outputs": [
    {
     "name": "stdout",
     "output_type": "stream",
     "text": [
      "  fans_num following_num posts_num following_uid crowd_member_uid\n",
      "0    24913           120      2175    4224679077       6405911882\n",
      "1    33110           172       155    4403644081       6405911882\n",
      "2    13871           164       665    1621361008       6405911882\n",
      "3    37699            48      1034    1859139457       6405911882\n",
      "4    51157           233       292      houqiang       6405911882\n"
     ]
    }
   ],
   "source": [
    "# 先分割在进行数据合并\n",
    "rawdf1 = rawdf['用户'].str.split('|',expand=True)\n",
    "#print(rawdf1.head())\n",
    "newnames = ['fans_num','following_num','posts_num']\n",
    "rawdf1.columns = newnames\n",
    "#print(rawdf1.head())\n",
    "# process the fans number and the following number\n",
    "rawdf['fans_num']  = rawdf1['fans_num'].str.split(' ',expand=True)[0]\n",
    "rawdf['following_num']  = rawdf1['following_num'].str.split(' ',expand=True)[0]\n",
    "rawdf['posts_num']  = rawdf1['posts_num'].str.split(' ',expand=True)[0]\n",
    "rawdf['following_uid']  = rawdf['用户_链接'].str[19:]\n",
    "rawdf['crowd_member_uid']  = rawdf['页面网址'].str[21:].str.split('#',expand=True)[0]\n",
    "del rawdf['用户_链接']\n",
    "del rawdf['用户']\n",
    "del rawdf['页面网址']\n",
    "print(rawdf.head())\n"
   ]
  },
  {
   "cell_type": "code",
   "execution_count": 122,
   "metadata": {},
   "outputs": [
    {
     "name": "stdout",
     "output_type": "stream",
     "text": [
      "  crowd_member_uid following_uid fans_num following_num posts_num\n",
      "0       6405911882    4224679077    24913           120      2175\n",
      "1       6405911882    4403644081    33110           172       155\n",
      "2       6405911882    1621361008    13871           164       665\n",
      "3       6405911882    1859139457    37699            48      1034\n",
      "4       6405911882      houqiang    51157           233       292\n"
     ]
    }
   ],
   "source": [
    "order = ['crowd_member_uid','following_uid','fans_num','following_num','posts_num']\n",
    "followingls_df = rawdf[order]\n",
    "print(followingls_df.head())"
   ]
  },
  {
   "cell_type": "code",
   "execution_count": 128,
   "metadata": {},
   "outputs": [],
   "source": [
    "#再建立一张表是crowd members\n",
    "cwdf = pd.read_csv('xinlitai_crowd_member.csv')\n",
    "#print(cwdf)\n",
    "members_ls =cwdf[\"crowd_members\"].tolist()\n",
    "#print(members_ls)\n",
    "#len(members_ls)"
   ]
  },
  {
   "cell_type": "code",
   "execution_count": 132,
   "metadata": {},
   "outputs": [],
   "source": [
    "# create the network\n",
    "cw_netdf = followingls_df.loc[followingls_df['following_uid'].isin(members_ls)]\n",
    "# 如果没有联系的crowd如何加进去呢？"
   ]
  },
  {
   "cell_type": "code",
   "execution_count": 157,
   "metadata": {},
   "outputs": [
    {
     "name": "stderr",
     "output_type": "stream",
     "text": [
      "C:\\Users\\Lenovo\\Anaconda3\\lib\\site-packages\\ipykernel_launcher.py:12: SettingWithCopyWarning: \n",
      "A value is trying to be set on a copy of a slice from a DataFrame.\n",
      "Try using .loc[row_indexer,col_indexer] = value instead\n",
      "\n",
      "See the caveats in the documentation: http://pandas.pydata.org/pandas-docs/stable/indexing.html#indexing-view-versus-copy\n",
      "  if sys.path[0] == '':\n"
     ]
    },
    {
     "name": "stdout",
     "output_type": "stream",
     "text": [
      "      members stock_name stock_code\n",
      "0  6405911882        信立泰  SZ:002294\n",
      "1  8890117734        信立泰  SZ:002294\n",
      "2  8960894035        信立泰  SZ:002294\n",
      "3  6405911882        信立泰  SZ:002294\n",
      "4  8960894035        信立泰  SZ:002294\n"
     ]
    },
    {
     "name": "stderr",
     "output_type": "stream",
     "text": [
      "C:\\Users\\Lenovo\\Anaconda3\\lib\\site-packages\\ipykernel_launcher.py:13: SettingWithCopyWarning: \n",
      "A value is trying to be set on a copy of a slice from a DataFrame.\n",
      "Try using .loc[row_indexer,col_indexer] = value instead\n",
      "\n",
      "See the caveats in the documentation: http://pandas.pydata.org/pandas-docs/stable/indexing.html#indexing-view-versus-copy\n",
      "  del sys.path[0]\n",
      "C:\\Users\\Lenovo\\Anaconda3\\lib\\site-packages\\ipykernel_launcher.py:14: SettingWithCopyWarning: \n",
      "A value is trying to be set on a copy of a slice from a DataFrame.\n",
      "Try using .loc[row_indexer,col_indexer] = value instead\n",
      "\n",
      "See the caveats in the documentation: http://pandas.pydata.org/pandas-docs/stable/indexing.html#indexing-view-versus-copy\n",
      "  \n"
     ]
    }
   ],
   "source": [
    "# 原始数据表处理\n",
    "# 将不同公司的数据表分开，同时合并文件进行ml的训练\n",
    "# following和follower一起采集\n",
    "commentdf = pd.read_csv('stockcomment-tst.csv')\n",
    "#commentdf.head()\n",
    "# 先要将表分开，将各个股票自己成为一个表\n",
    "# 对表格进行处理，将用户和股票代码提取出来\n",
    "stock_cwms =  commentdf[['文本','用户_链接']]\n",
    "stock_cwms1 = stock_cwms['文本'].str.split('(',expand=True)\n",
    "stock_cwms1.columns = ['stock_name','stock_code']\n",
    "#print(stock_cwms1)\n",
    "stock_cwms['members'] = stock_cwms['用户_链接'].str[19:]\n",
    "stock_cwms['stock_name'] = stock_cwms1['stock_name']\n",
    "stock_cwms['stock_code'] = stock_cwms1['stock_code'].str[:9]\n",
    "del stock_cwms['文本']\n",
    "del stock_cwms['用户_链接']\n"
   ]
  },
  {
   "cell_type": "code",
   "execution_count": 163,
   "metadata": {},
   "outputs": [
    {
     "name": "stdout",
     "output_type": "stream",
     "text": [
      "        members stock_name stock_code\n",
      "0    6405911882        信立泰  SZ:002294\n",
      "1    8890117734        信立泰  SZ:002294\n",
      "2    8960894035        信立泰  SZ:002294\n",
      "3    6405911882        信立泰  SZ:002294\n",
      "4    8960894035        信立泰  SZ:002294\n",
      "5    8960894035        信立泰  SZ:002294\n",
      "6    8960894035        信立泰  SZ:002294\n",
      "7    9956679466        信立泰  SZ:002294\n",
      "8    5244250798        信立泰  SZ:002294\n",
      "9    8960894035        信立泰  SZ:002294\n",
      "10   2054567330        信立泰  SZ:002294\n",
      "11   9956679466        信立泰  SZ:002294\n",
      "12   4255434670        信立泰  SZ:002294\n",
      "13   8960894035        信立泰  SZ:002294\n",
      "14   9956679466        信立泰  SZ:002294\n",
      "15   1597977269        信立泰  SZ:002294\n",
      "16   9956679466        信立泰  SZ:002294\n",
      "17   5896904950        信立泰  SZ:002294\n",
      "18   9956679466        信立泰  SZ:002294\n",
      "19   8960894035        信立泰  SZ:002294\n",
      "20   8801386347        信立泰  SZ:002294\n",
      "21   8890117734        信立泰  SZ:002294\n",
      "22   8801386347        信立泰  SZ:002294\n",
      "23   4365015103        信立泰  SZ:002294\n",
      "24   8960894035        信立泰  SZ:002294\n",
      "25   4365015103        信立泰  SZ:002294\n",
      "26   9760864983        信立泰  SZ:002294\n",
      "27   8801386347        信立泰  SZ:002294\n",
      "28   9937612146        信立泰  SZ:002294\n",
      "29   8960894035        信立泰  SZ:002294\n",
      "..          ...        ...        ...\n",
      "948  S/SZ002294        信立泰  SZ:002294\n",
      "949  2054567330        信立泰  SZ:002294\n",
      "950  7118787096        信立泰  SZ:002294\n",
      "951  2162814030        信立泰  SZ:002294\n",
      "952  1124246550        信立泰  SZ:002294\n",
      "953  5529097182        信立泰  SZ:002294\n",
      "954  9117828752        信立泰  SZ:002294\n",
      "955  1090515026        信立泰  SZ:002294\n",
      "956  3736401327        信立泰  SZ:002294\n",
      "957  5915208672        信立泰  SZ:002294\n",
      "958  9127261367        信立泰  SZ:002294\n",
      "959  7902310144        信立泰  SZ:002294\n",
      "960  6405911882        信立泰  SZ:002294\n",
      "961  8920162574        信立泰  SZ:002294\n",
      "962  1090698117        信立泰  SZ:002294\n",
      "963  2070722661        信立泰  SZ:002294\n",
      "964  7995619023        信立泰  SZ:002294\n",
      "965  5896904950        信立泰  SZ:002294\n",
      "966  9844709892        信立泰  SZ:002294\n",
      "967  5664378605        信立泰  SZ:002294\n",
      "968  1463934057        信立泰  SZ:002294\n",
      "969  6139926395        信立泰  SZ:002294\n",
      "970  1437759636        信立泰  SZ:002294\n",
      "971  2382283367        信立泰  SZ:002294\n",
      "972  2382561132        信立泰  SZ:002294\n",
      "973  1260671177        信立泰  SZ:002294\n",
      "974      zongge        信立泰  SZ:002294\n",
      "975  6379438524        信立泰  SZ:002294\n",
      "976  7466959957        信立泰  SZ:002294\n",
      "977  2609644325        信立泰  SZ:002294\n",
      "\n",
      "[978 rows x 3 columns]\n"
     ]
    }
   ],
   "source": [
    "#print(stock_cwms.head())\n",
    "df1 = stock_cwms.loc[stock_cwms['stock_code'] == 'SZ:002294']\n",
    "print(df1)"
   ]
  },
  {
   "cell_type": "code",
   "execution_count": null,
   "metadata": {},
   "outputs": [],
   "source": []
  },
  {
   "cell_type": "code",
   "execution_count": 88,
   "metadata": {},
   "outputs": [],
   "source": [
    "\n",
    "# pkl包系列，用于数据的处理和读取\n",
    "# code source: https://zhuanlan.zhihu.com/p/104492767?from_voters_page=true\n",
    "def save_pkl(path,obj):\n",
    "    pickle_file = open(path,'wb')\n",
    "    pickle.dump(obj, pickle_file)\n",
    "    pickle_file.close()\n",
    "    print(\"保存成功\")\n",
    "def load_pkl(path):\n",
    "    pickle_file = open(path,'rb')\n",
    "    obj=pickle.load(pickle_file)\n",
    "    pickle_file.close()\n",
    "    print(\"读取成功\")\n",
    "    return obj"
   ]
  },
  {
   "cell_type": "code",
   "execution_count": null,
   "metadata": {},
   "outputs": [],
   "source": [
    "# data preprocess:评论表数据处理\n",
    "# 处理后的数据表应该长成什么样？\n",
    "# 然后要得到每一个股票的unique member uid从而进行检索关注者和被关注的人\n",
    "# 然后计算diversity\n"
   ]
  },
  {
   "cell_type": "code",
   "execution_count": 79,
   "metadata": {},
   "outputs": [
    {
     "name": "stdout",
     "output_type": "stream",
     "text": [
      "['./popcmdata\\\\popularposts1-150(1).csv', './popcmdata\\\\popularposts1-150(2).csv', './popcmdata\\\\popularposts1-150(3).csv', './popcmdata\\\\popularposts1-150(4).csv', './popcmdata\\\\popularposts1-150(5).csv', './popcmdata\\\\popularposts1-150(6).csv', './popcmdata\\\\popularposts1-150(7).csv', './popcmdata\\\\popularposts1-150(8).csv']\n"
     ]
    }
   ],
   "source": [
    "# import data \n",
    "path=r'./popcmdata' # the location of the dataset \n",
    "file=glob.glob(os.path.join(path, \"popularposts1-150*.csv\")) # filename\n",
    "print(file)\n",
    "\n",
    "# to concat the dataframes\n",
    "dl= []\n",
    "for f in file:\n",
    "    dl.append(pd.read_csv(f))\n",
    "stock_commentsp1 =pd.concat(dl,axis = 0, ignore_index = True) "
   ]
  },
  {
   "cell_type": "code",
   "execution_count": 82,
   "metadata": {},
   "outputs": [],
   "source": [
    "# data preprocess：评论数据总表处理\n",
    "def raw_dataprocess(rawdf):\n",
    "    '''\n",
    "    input: the data being processed\n",
    "    output: processed new dataframe\n",
    "    '''\n",
    "    # get the stock code\n",
    "    rawdf['stock_code'] = rawdf['页面网址'].str[21:29]\n",
    "    # get the crowd member uid\n",
    "    rawdf['user_uid'] =  rawdf['用户_链接'].str[19:]\n",
    "    # change the column name\n",
    "    rawdf.rename(columns={'用户':'user_name', '内容':'content','来源':'post_time','时间':'retweet_num','时间2':'reply_num','时间2':'reply_num','时间3':'like_num'}, inplace = True)\n",
    "    rawdf_new =  rawdf[['stock_code','user_name','user_uid','post_time','content','retweet_num','reply_num','like_num']] \n",
    "    # extract numbers from several columns\n",
    "    cg_ls = ['retweet_num','reply_num','like_num']\n",
    "    for i in cg_ls:\n",
    "        rawdf_new[i] = rawdf_new[i].str.extract(r'(\\d+)')\n",
    "    # split the comment time\n",
    "    rawdf_new['post_md'] = rawdf_new['post_time'].str.split(' ',expand = True).iloc[:,0]\n",
    "    rawdf_new['post_hm'] = rawdf_new['post_time'].str.split(' ',expand = True).iloc[:,1]\n",
    "    rawdf_new1 = rawdf_new[['stock_code','user_name','user_uid','post_md','post_hm','content','retweet_num','reply_num','like_num']]\n",
    "    return  rawdf_new1"
   ]
  },
  {
   "cell_type": "code",
   "execution_count": 84,
   "metadata": {},
   "outputs": [
    {
     "name": "stderr",
     "output_type": "stream",
     "text": [
      "C:\\Users\\Lenovo\\Anaconda3\\lib\\site-packages\\ipykernel_launcher.py:17: SettingWithCopyWarning: \n",
      "A value is trying to be set on a copy of a slice from a DataFrame.\n",
      "Try using .loc[row_indexer,col_indexer] = value instead\n",
      "\n",
      "See the caveats in the documentation: http://pandas.pydata.org/pandas-docs/stable/indexing.html#indexing-view-versus-copy\n",
      "C:\\Users\\Lenovo\\Anaconda3\\lib\\site-packages\\ipykernel_launcher.py:18: SettingWithCopyWarning: \n",
      "A value is trying to be set on a copy of a slice from a DataFrame.\n",
      "Try using .loc[row_indexer,col_indexer] = value instead\n",
      "\n",
      "See the caveats in the documentation: http://pandas.pydata.org/pandas-docs/stable/indexing.html#indexing-view-versus-copy\n",
      "C:\\Users\\Lenovo\\Anaconda3\\lib\\site-packages\\ipykernel_launcher.py:19: SettingWithCopyWarning: \n",
      "A value is trying to be set on a copy of a slice from a DataFrame.\n",
      "Try using .loc[row_indexer,col_indexer] = value instead\n",
      "\n",
      "See the caveats in the documentation: http://pandas.pydata.org/pandas-docs/stable/indexing.html#indexing-view-versus-copy\n"
     ]
    }
   ],
   "source": [
    "stock_com = raw_dataprocess(stock_commentsp1)"
   ]
  },
  {
   "cell_type": "code",
   "execution_count": 93,
   "metadata": {},
   "outputs": [],
   "source": [
    "# data preprocess:股票分割\n",
    "def stockdf_split(rawdf,colindex):\n",
    "    '''\n",
    "    input:数据表和code所在列的Index\n",
    "    output:将分割后的数据表保存在本地\n",
    "    需要save pkl函数\n",
    "    此数据不局限于某一特定的数据表\n",
    "    '''\n",
    "    code_ls = rawdf[colindex].unique().tolist()\n",
    "    num = 0\n",
    "    for cds in code_ls:\n",
    "        num += 1\n",
    "        df = rawdf.loc[rawdf[colindex] == cds]\n",
    "        outfilename = cds + '.csv'\n",
    "        df.to_csv(outfilename,encoding=\"utf_8_sig\") # solve the encoding issue\n",
    "        print('第'+str(num)+\"个文件保存成功，股票代码为\"+cds)\n",
    "        "
   ]
  },
  {
   "cell_type": "code",
   "execution_count": 94,
   "metadata": {},
   "outputs": [
    {
     "name": "stdout",
     "output_type": "stream",
     "text": [
      "第1个文件保存成功，股票代码为SH601066\n",
      "第2个文件保存成功，股票代码为SZ002050\n",
      "第3个文件保存成功，股票代码为SZ002294\n",
      "第4个文件保存成功，股票代码为SZ300059\n",
      "第5个文件保存成功，股票代码为SH601881\n",
      "第6个文件保存成功，股票代码为SH603501\n",
      "第7个文件保存成功，股票代码为SH601727\n",
      "第8个文件保存成功，股票代码为SZ300033\n",
      "第9个文件保存成功，股票代码为SZ000858\n",
      "第10个文件保存成功，股票代码为SH601788\n",
      "第11个文件保存成功，股票代码为SZ002044\n",
      "第12个文件保存成功，股票代码为SH603259\n",
      "第13个文件保存成功，股票代码为SH600655\n",
      "第14个文件保存成功，股票代码为SZ300347\n",
      "第15个文件保存成功，股票代码为SZ300142\n",
      "第16个文件保存成功，股票代码为SZ002736\n",
      "第17个文件保存成功，股票代码为SZ300015\n",
      "第18个文件保存成功，股票代码为SH600999\n",
      "第19个文件保存成功，股票代码为SH600276\n",
      "第20个文件保存成功，股票代码为SH601236\n",
      "第21个文件保存成功，股票代码为SH600109\n",
      "第22个文件保存成功，股票代码为SZ002624\n",
      "第23个文件保存成功，股票代码为SH603833\n",
      "第24个文件保存成功，股票代码为SZ002714\n",
      "第25个文件保存成功，股票代码为SH601878\n",
      "第26个文件保存成功，股票代码为SH601162\n",
      "第27个文件保存成功，股票代码为SH600297\n",
      "第28个文件保存成功，股票代码为SZ000783\n",
      "第29个文件保存成功，股票代码为SZ000333\n",
      "第30个文件保存成功，股票代码为SZ000627\n",
      "第31个文件保存成功，股票代码为SZ000166\n",
      "第32个文件保存成功，股票代码为SH601108\n",
      "第33个文件保存成功，股票代码为SH600030\n",
      "第34个文件保存成功，股票代码为SZ000661\n",
      "第35个文件保存成功，股票代码为SH603160\n",
      "第36个文件保存成功，股票代码为SH601688\n",
      "第37个文件保存成功，股票代码为SH600837\n",
      "第38个文件保存成功，股票代码为SH600436\n",
      "第39个文件保存成功，股票代码为SZ000538\n",
      "第40个文件保存成功，股票代码为SZ002773\n",
      "第41个文件保存成功，股票代码为SZ002153\n",
      "第42个文件保存成功，股票代码为SZ000596\n",
      "第43个文件保存成功，股票代码为SH601198\n",
      "第44个文件保存成功，股票代码为SH600703\n",
      "第45个文件保存成功，股票代码为SH600369\n",
      "第46个文件保存成功，股票代码为SH600340\n",
      "第47个文件保存成功，股票代码为SZ300124\n",
      "第48个文件保存成功，股票代码为SH603288\n",
      "第49个文件保存成功，股票代码为SZ002555\n",
      "第50个文件保存成功，股票代码为SH601211\n",
      "第51个文件保存成功，股票代码为SH600887\n",
      "第52个文件保存成功，股票代码为SH603986\n",
      "第53个文件保存成功，股票代码为SZ300408\n",
      "第54个文件保存成功，股票代码为SH600104\n",
      "第55个文件保存成功，股票代码为SZ000776\n",
      "第56个文件保存成功，股票代码为SZ000728\n",
      "第57个文件保存成功，股票代码为SZ000568\n",
      "第58个文件保存成功，股票代码为SZ002673\n",
      "第59个文件保存成功，股票代码为SH600977\n",
      "第60个文件保存成功，股票代码为SH601012\n",
      "第61个文件保存成功，股票代码为SH601628\n",
      "第62个文件保存成功，股票代码为SH600705\n",
      "第63个文件保存成功，股票代码为SZ000895\n",
      "第64个文件保存成功，股票代码为SZ002939\n",
      "第65个文件保存成功，股票代码为SH601377\n",
      "第66个文件保存成功，股票代码为SH600958\n",
      "第67个文件保存成功，股票代码为SZ002958\n",
      "第68个文件保存成功，股票代码为SZ002945\n",
      "第69个文件保存成功，股票代码为SH601555\n",
      "第70个文件保存成功，股票代码为SZ002456\n",
      "第71个文件保存成功，股票代码为SZ002601\n",
      "第72个文件保存成功，股票代码为SH600519\n",
      "第73个文件保存成功，股票代码为SH600061\n",
      "第74个文件保存成功，股票代码为SZ002241\n",
      "第75个文件保存成功，股票代码为SH600690\n",
      "第76个文件保存成功，股票代码为SH603899\n",
      "第77个文件保存成功，股票代码为SH601698\n",
      "第78个文件保存成功，股票代码为SZ300024\n",
      "第79个文件保存成功，股票代码为SZ300144\n",
      "第80个文件保存成功，股票代码为SZ002032\n",
      "第81个文件保存成功，股票代码为SZ002311\n",
      "第82个文件保存成功，股票代码为SZ000069\n",
      "第83个文件保存成功，股票代码为SZ002304\n",
      "第84个文件保存成功，股票代码为SH601319\n",
      "第85个文件保存成功，股票代码为SZ002252\n",
      "第86个文件保存成功，股票代码为SH603799\n",
      "第87个文件保存成功，股票代码为SH601818\n",
      "第88个文件保存成功，股票代码为SZ002179\n",
      "第89个文件保存成功，股票代码为SH600570\n",
      "第90个文件保存成功，股票代码为SH600390\n",
      "第91个文件保存成功，股票代码为SH601901\n",
      "第92个文件保存成功，股票代码为SH600660\n",
      "第93个文件保存成功，股票代码为SH601877\n",
      "第94个文件保存成功，股票代码为SH600009\n",
      "第95个文件保存成功，股票代码为SH601919\n",
      "第96个文件保存成功，股票代码为SH601298\n",
      "第97个文件保存成功，股票代码为SH601888\n",
      "第98个文件保存成功，股票代码为SH601828\n",
      "第99个文件保存成功，股票代码为SZ300003\n",
      "第100个文件保存成功，股票代码为SH601633\n",
      "第101个文件保存成功，股票代码为SH601018\n",
      "第102个文件保存成功，股票代码为SZ000651\n",
      "第103个文件保存成功，股票代码为SH600741\n",
      "第104个文件保存成功，股票代码为SH600566\n",
      "第105个文件保存成功，股票代码为SZ000063\n",
      "第106个文件保存成功，股票代码为SZ000656\n",
      "第107个文件保存成功，股票代码为SH601021\n",
      "第108个文件保存成功，股票代码为SH600606\n",
      "第109个文件保存成功，股票代码为SH600000\n",
      "第110个文件保存成功，股票代码为SH600170\n",
      "第111个文件保存成功，股票代码为SH601111\n",
      "第112个文件保存成功，股票代码为SH600522\n",
      "第113个文件保存成功，股票代码为SZ000876\n",
      "第114个文件保存成功，股票代码为SZ000625\n",
      "第115个文件保存成功，股票代码为SH600489\n",
      "第116个文件保存成功，股票代码为SZ300433\n",
      "第117个文件保存成功，股票代码为SH601009\n",
      "第118个文件保存成功，股票代码为SH601618\n",
      "第119个文件保存成功，股票代码为SH600111\n",
      "第120个文件保存成功，股票代码为SZ000725\n",
      "第121个文件保存成功，股票代码为SH601601\n",
      "第122个文件保存成功，股票代码为SZ000338\n",
      "第123个文件保存成功，股票代码为SH600346\n",
      "第124个文件保存成功，股票代码为SZ002007\n",
      "第125个文件保存成功，股票代码为SH600004\n",
      "第126个文件保存成功，股票代码为SH600011\n",
      "第127个文件保存成功，股票代码为SH600398\n",
      "第128个文件保存成功，股票代码为SZ002024\n",
      "第129个文件保存成功，股票代码为SH600309\n",
      "第130个文件保存成功，股票代码为SZ002938\n",
      "第131个文件保存成功，股票代码为SH600015\n",
      "第132个文件保存成功，股票代码为SZ002230\n",
      "第133个文件保存成功，股票代码为SH601992\n",
      "第134个文件保存成功，股票代码为SZ002460\n",
      "第135个文件保存成功，股票代码为SZ002466\n",
      "第136个文件保存成功，股票代码为SH601933\n",
      "第137个文件保存成功，股票代码为SH600547\n",
      "第138个文件保存成功，股票代码为SZ002415\n",
      "第139个文件保存成功，股票代码为SZ002001\n",
      "第140个文件保存成功，股票代码为SH600066\n",
      "第141个文件保存成功，股票代码为SH601668\n",
      "第142个文件保存成功，股票代码为SH600027\n",
      "第143个文件保存成功，股票代码为SH601808\n",
      "第144个文件保存成功，股票代码为SH601328\n",
      "第145个文件保存成功，股票代码为SH600893\n",
      "第146个文件保存成功，股票代码为SH600809\n"
     ]
    }
   ],
   "source": [
    "stockdf_split(stock_com,'stock_code')"
   ]
  },
  {
   "cell_type": "code",
   "execution_count": null,
   "metadata": {},
   "outputs": [],
   "source": [
    "# 分割股票后获得每个股票下面的unique members"
   ]
  },
  {
   "cell_type": "code",
   "execution_count": 175,
   "metadata": {},
   "outputs": [],
   "source": []
  },
  {
   "cell_type": "code",
   "execution_count": 176,
   "metadata": {},
   "outputs": [],
   "source": []
  },
  {
   "cell_type": "code",
   "execution_count": null,
   "metadata": {},
   "outputs": [],
   "source": []
  },
  {
   "cell_type": "code",
   "execution_count": 190,
   "metadata": {},
   "outputs": [],
   "source": [
    "\n"
   ]
  },
  {
   "cell_type": "code",
   "execution_count": null,
   "metadata": {},
   "outputs": [],
   "source": []
  }
 ],
 "metadata": {
  "kernelspec": {
   "display_name": "Python 3",
   "language": "python",
   "name": "python3"
  },
  "language_info": {
   "codemirror_mode": {
    "name": "ipython",
    "version": 3
   },
   "file_extension": ".py",
   "mimetype": "text/x-python",
   "name": "python",
   "nbconvert_exporter": "python",
   "pygments_lexer": "ipython3",
   "version": "3.7.3"
  }
 },
 "nbformat": 4,
 "nbformat_minor": 2
}
