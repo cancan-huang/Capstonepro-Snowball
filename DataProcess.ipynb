{
 "cells": [
  {
   "cell_type": "code",
   "execution_count": 1,
   "metadata": {},
   "outputs": [],
   "source": [
    "# import the packages\n",
    "#!/usr/bin/env python\n",
    "# -*- coding: utf-8 -*-\n",
    "import pandas as pd\n",
    "import numpy as np\n",
    "import pickle\n",
    "import glob,os"
   ]
  },
  {
   "cell_type": "code",
   "execution_count": 2,
   "metadata": {},
   "outputs": [],
   "source": [
    "import preprocess as pre# 预先处理数据的py文件\n",
    "import stock_process as stock # 用来处理股票数据的py文件"
   ]
  },
  {
   "cell_type": "code",
   "execution_count": 277,
   "metadata": {},
   "outputs": [
    {
     "name": "stdout",
     "output_type": "stream",
     "text": [
      "Collecting jieba\n",
      "  Downloading jieba-0.42.1.tar.gz (19.2 MB)\n",
      "Building wheels for collected packages: jieba\n",
      "  Building wheel for jieba (setup.py): started\n",
      "  Building wheel for jieba (setup.py): finished with status 'done'\n",
      "  Created wheel for jieba: filename=jieba-0.42.1-py3-none-any.whl size=19314481 sha256=6c00fcc84d61e1d85a06eb81e86838cf36850e65d875922d80a63657605c8e6a\n",
      "  Stored in directory: c:\\users\\admin\\appdata\\local\\pip\\cache\\wheels\\24\\aa\\17\\5bc7c72e9a37990a9620cc3aad0acad1564dcff6dbc2359de3\n",
      "Successfully built jieba\n",
      "Installing collected packages: jieba\n",
      "Successfully installed jieba-0.42.1\n",
      "Note: you may need to restart the kernel to use updated packages.\n"
     ]
    }
   ],
   "source": [
    "# 安装jieba包\n",
    "pip install jieba"
   ]
  },
  {
   "cell_type": "code",
   "execution_count": 3,
   "metadata": {},
   "outputs": [],
   "source": [
    "import jieba"
   ]
  },
  {
   "cell_type": "code",
   "execution_count": 279,
   "metadata": {},
   "outputs": [
    {
     "name": "stderr",
     "output_type": "stream",
     "text": [
      "Building prefix dict from the default dictionary ...\n",
      "Dumping model to file cache C:\\Users\\Admin\\AppData\\Local\\Temp\\jieba.cache\n",
      "Loading model cost 0.810 seconds.\n",
      "Prefix dict has been built successfully.\n"
     ]
    },
    {
     "name": "stdout",
     "output_type": "stream",
     "text": [
      "Full Mode: 我/ 来到/ 北京/ 清华/ 清华大学/ 华大/ 大学\n"
     ]
    }
   ],
   "source": [
    "seg_list = jieba.cut(\"我来到北京清华大学\", cut_all=True, HMM=False)\n",
    "print(\"Full Mode: \" + \"/ \".join(seg_list))  # 全模式\n"
   ]
  },
  {
   "cell_type": "code",
   "execution_count": null,
   "metadata": {},
   "outputs": [],
   "source": [
    "'''\n",
    "stock_cwms =  commentdf[['文本','用户_链接']]\n",
    "stock_cwms1 = stock_cwms['文本'].str.split('(',expand=True)\n",
    "stock_cwms1.columns = ['stock_name','stock_code']\n",
    "#print(stock_cwms1)\n",
    "stock_cwms['members'] = stock_cwms['用户_链接'].str[19:]\n",
    "stock_cwms['stock_name'] = stock_cwms1['stock_name']\n",
    "stock_cwms['stock_code'] = stock_cwms1['stock_code'].str[:9]\n",
    "del stock_cwms['文本']\n",
    "del stock_cwms['用户_链接']\n",
    "'''"
   ]
  },
  {
   "cell_type": "code",
   "execution_count": 10,
   "metadata": {},
   "outputs": [],
   "source": [
    "# 原始数据表处理\n",
    "# 将不同公司的数据表分开，同时合并文件进行ml的训练\n",
    "# following和follower一起采集\n",
    "commentdf = pd.read_csv('stockcomment-tst.csv')\n",
    "#commentdf\n",
    "# 先要将表分开，将各个股票自己成为一个表\n",
    "# 对表格进行处理，将用户和股票代码提取出来\n"
   ]
  },
  {
   "cell_type": "code",
   "execution_count": null,
   "metadata": {},
   "outputs": [],
   "source": []
  },
  {
   "cell_type": "code",
   "execution_count": 2,
   "metadata": {},
   "outputs": [],
   "source": [
    "# pkl包系列，用于数据的处理和读取\n",
    "# code source: https://zhuanlan.zhihu.com/p/104492767?from_voters_page=true\n",
    "def save_pkl(path,obj):\n",
    "    pickle_file = open(path,'wb')\n",
    "    pickle.dump(obj, pickle_file)\n",
    "    pickle_file.close()\n",
    "    print(\"保存成功\")\n",
    "def load_pkl(path):\n",
    "    pickle_file = open(path,'rb')\n",
    "    obj=pickle.load(pickle_file)\n",
    "    pickle_file.close()\n",
    "    print(\"读取成功\")\n",
    "    return obj"
   ]
  },
  {
   "cell_type": "code",
   "execution_count": 2,
   "metadata": {},
   "outputs": [
    {
     "name": "stdout",
     "output_type": "stream",
     "text": [
      "['./popcmdata\\\\popularposts1-150(1).csv', './popcmdata\\\\popularposts1-150(2).csv', './popcmdata\\\\popularposts1-150(3).csv', './popcmdata\\\\popularposts1-150(4).csv', './popcmdata\\\\popularposts1-150(5).csv', './popcmdata\\\\popularposts1-150(6).csv', './popcmdata\\\\popularposts1-150(7).csv', './popcmdata\\\\popularposts1-150(8).csv']\n"
     ]
    }
   ],
   "source": [
    "# import data \n",
    "path=r'./popcmdata' # the location of the dataset \n",
    "file=glob.glob(os.path.join(path, \"popularposts1-150*.csv\")) # filename\n",
    "print(file)\n",
    "\n",
    "# to concat the dataframes\n",
    "dl= []\n",
    "for f in file:\n",
    "    dl.append(pd.read_csv(f))\n",
    "stock_commentsp1 =pd.concat(dl,axis = 0, ignore_index = True) "
   ]
  },
  {
   "cell_type": "code",
   "execution_count": 3,
   "metadata": {},
   "outputs": [
    {
     "name": "stdout",
     "output_type": "stream",
     "text": [
      "['./popcmdata\\\\popularposts151-300(1).csv', './popcmdata\\\\popularposts151-300(2).csv', './popcmdata\\\\popularposts151-300(3).csv', './popcmdata\\\\popularposts151-300(4).csv', './popcmdata\\\\popularposts151-300(5).csv', './popcmdata\\\\popularposts151-300(6).csv', './popcmdata\\\\popularposts151-300(7).csv', './popcmdata\\\\popularposts151-300(8).csv']\n"
     ]
    }
   ],
   "source": [
    "# import data \n",
    "path=r'./popcmdata' # the location of the dataset \n",
    "file2=glob.glob(os.path.join(path, \"popularposts151-300*.csv\")) # filename\n",
    "print(file2)\n",
    "\n",
    "# to concat the dataframes\n",
    "dl2= []\n",
    "for f in file2:\n",
    "    dl2.append(pd.read_csv(f))\n",
    "stock_commentsp2 =pd.concat(dl2,axis = 0, ignore_index = True) "
   ]
  },
  {
   "cell_type": "code",
   "execution_count": 5,
   "metadata": {},
   "outputs": [
    {
     "name": "stderr",
     "output_type": "stream",
     "text": [
      "C:\\Users\\Admin\\anaconda3\\lib\\site-packages\\ipykernel_launcher.py:17: SettingWithCopyWarning: \n",
      "A value is trying to be set on a copy of a slice from a DataFrame.\n",
      "Try using .loc[row_indexer,col_indexer] = value instead\n",
      "\n",
      "See the caveats in the documentation: https://pandas.pydata.org/pandas-docs/stable/user_guide/indexing.html#returning-a-view-versus-a-copy\n",
      "C:\\Users\\Admin\\anaconda3\\lib\\site-packages\\ipykernel_launcher.py:19: SettingWithCopyWarning: \n",
      "A value is trying to be set on a copy of a slice from a DataFrame.\n",
      "Try using .loc[row_indexer,col_indexer] = value instead\n",
      "\n",
      "See the caveats in the documentation: https://pandas.pydata.org/pandas-docs/stable/user_guide/indexing.html#returning-a-view-versus-a-copy\n",
      "C:\\Users\\Admin\\anaconda3\\lib\\site-packages\\ipykernel_launcher.py:20: SettingWithCopyWarning: \n",
      "A value is trying to be set on a copy of a slice from a DataFrame.\n",
      "Try using .loc[row_indexer,col_indexer] = value instead\n",
      "\n",
      "See the caveats in the documentation: https://pandas.pydata.org/pandas-docs/stable/user_guide/indexing.html#returning-a-view-versus-a-copy\n"
     ]
    }
   ],
   "source": [
    "stock_comp1 = raw_dataprocess(stock_commentsp1)"
   ]
  },
  {
   "cell_type": "code",
   "execution_count": 140,
   "metadata": {},
   "outputs": [
    {
     "name": "stderr",
     "output_type": "stream",
     "text": [
      "C:\\Users\\Admin\\anaconda3\\lib\\site-packages\\ipykernel_launcher.py:17: SettingWithCopyWarning: \n",
      "A value is trying to be set on a copy of a slice from a DataFrame.\n",
      "Try using .loc[row_indexer,col_indexer] = value instead\n",
      "\n",
      "See the caveats in the documentation: https://pandas.pydata.org/pandas-docs/stable/user_guide/indexing.html#returning-a-view-versus-a-copy\n",
      "C:\\Users\\Admin\\anaconda3\\lib\\site-packages\\ipykernel_launcher.py:19: SettingWithCopyWarning: \n",
      "A value is trying to be set on a copy of a slice from a DataFrame.\n",
      "Try using .loc[row_indexer,col_indexer] = value instead\n",
      "\n",
      "See the caveats in the documentation: https://pandas.pydata.org/pandas-docs/stable/user_guide/indexing.html#returning-a-view-versus-a-copy\n",
      "C:\\Users\\Admin\\anaconda3\\lib\\site-packages\\ipykernel_launcher.py:20: SettingWithCopyWarning: \n",
      "A value is trying to be set on a copy of a slice from a DataFrame.\n",
      "Try using .loc[row_indexer,col_indexer] = value instead\n",
      "\n",
      "See the caveats in the documentation: https://pandas.pydata.org/pandas-docs/stable/user_guide/indexing.html#returning-a-view-versus-a-copy\n"
     ]
    }
   ],
   "source": [
    "stock_comp2 = raw_dataprocess(stock_commentsp2)"
   ]
  },
  {
   "cell_type": "code",
   "execution_count": 141,
   "metadata": {},
   "outputs": [],
   "source": [
    "new_stock_comp2 = pre.date_process(stock_comp2)"
   ]
  },
  {
   "cell_type": "code",
   "execution_count": 146,
   "metadata": {},
   "outputs": [
    {
     "data": {
      "text/html": [
       "<div>\n",
       "<style scoped>\n",
       "    .dataframe tbody tr th:only-of-type {\n",
       "        vertical-align: middle;\n",
       "    }\n",
       "\n",
       "    .dataframe tbody tr th {\n",
       "        vertical-align: top;\n",
       "    }\n",
       "\n",
       "    .dataframe thead th {\n",
       "        text-align: right;\n",
       "    }\n",
       "</style>\n",
       "<table border=\"1\" class=\"dataframe\">\n",
       "  <thead>\n",
       "    <tr style=\"text-align: right;\">\n",
       "      <th></th>\n",
       "      <th>stock_code</th>\n",
       "      <th>user_name</th>\n",
       "      <th>user_uid</th>\n",
       "      <th>post_md</th>\n",
       "      <th>post_hm</th>\n",
       "      <th>content</th>\n",
       "      <th>retweet_num</th>\n",
       "      <th>reply_num</th>\n",
       "      <th>like_num</th>\n",
       "    </tr>\n",
       "  </thead>\n",
       "  <tbody>\n",
       "    <tr>\n",
       "      <th>0</th>\n",
       "      <td>SH600926</td>\n",
       "      <td>一只大金鱼</td>\n",
       "      <td>9398164316</td>\n",
       "      <td>2020-07-03</td>\n",
       "      <td>19:09</td>\n",
       "      <td>$杭州银行(SH600926)$ 自从清仓银行股，买入创业板，已经过去一个多星期。这几天国际...</td>\n",
       "      <td>NaN</td>\n",
       "      <td>24</td>\n",
       "      <td>3</td>\n",
       "    </tr>\n",
       "    <tr>\n",
       "      <th>1</th>\n",
       "      <td>SH600926</td>\n",
       "      <td>山猫大爷</td>\n",
       "      <td>8095798871</td>\n",
       "      <td>2020-07-03</td>\n",
       "      <td>19:52</td>\n",
       "      <td>回复@祗買銀行: 最坚决多头还在呢$杭州银行(SH600926)$//@祗買銀行:回复@巴蒂...</td>\n",
       "      <td>1</td>\n",
       "      <td>22</td>\n",
       "      <td>1</td>\n",
       "    </tr>\n",
       "    <tr>\n",
       "      <th>2</th>\n",
       "      <td>SH600926</td>\n",
       "      <td>巴蒂老哥</td>\n",
       "      <td>1372551852</td>\n",
       "      <td>2020-07-01</td>\n",
       "      <td>11:44</td>\n",
       "      <td>$杭州银行(SH600926)$持股半年以上的老铁还有多少?出来冒个泡? 今天地产起动，银行...</td>\n",
       "      <td>2</td>\n",
       "      <td>64</td>\n",
       "      <td>9</td>\n",
       "    </tr>\n",
       "    <tr>\n",
       "      <th>3</th>\n",
       "      <td>SH600926</td>\n",
       "      <td>巴蒂老哥</td>\n",
       "      <td>1372551852</td>\n",
       "      <td>2020-07-03</td>\n",
       "      <td>16:38</td>\n",
       "      <td>$杭州银行(SH600926)$人今天小杭完成了三项任。 1)坑底起来达30%涨幅，我知足，...</td>\n",
       "      <td>NaN</td>\n",
       "      <td>16</td>\n",
       "      <td>3</td>\n",
       "    </tr>\n",
       "    <tr>\n",
       "      <th>4</th>\n",
       "      <td>SH600926</td>\n",
       "      <td>钱塘之泉</td>\n",
       "      <td>2993637267</td>\n",
       "      <td>2020-06-18</td>\n",
       "      <td>20:54</td>\n",
       "      <td>$杭州银行(SH600926)$ 今天下午2点在杭州庆春路杭州银行总部大楼5楼会议开始，现场...</td>\n",
       "      <td>4</td>\n",
       "      <td>33</td>\n",
       "      <td>37</td>\n",
       "    </tr>\n",
       "  </tbody>\n",
       "</table>\n",
       "</div>"
      ],
      "text/plain": [
       "  stock_code user_name    user_uid    post_md post_hm  \\\n",
       "0   SH600926     一只大金鱼  9398164316 2020-07-03   19:09   \n",
       "1   SH600926      山猫大爷  8095798871 2020-07-03   19:52   \n",
       "2   SH600926      巴蒂老哥  1372551852 2020-07-01   11:44   \n",
       "3   SH600926      巴蒂老哥  1372551852 2020-07-03   16:38   \n",
       "4   SH600926      钱塘之泉  2993637267 2020-06-18   20:54   \n",
       "\n",
       "                                             content retweet_num reply_num  \\\n",
       "0  $杭州银行(SH600926)$ 自从清仓银行股，买入创业板，已经过去一个多星期。这几天国际...         NaN        24   \n",
       "1  回复@祗買銀行: 最坚决多头还在呢$杭州银行(SH600926)$//@祗買銀行:回复@巴蒂...           1        22   \n",
       "2  $杭州银行(SH600926)$持股半年以上的老铁还有多少?出来冒个泡? 今天地产起动，银行...           2        64   \n",
       "3  $杭州银行(SH600926)$人今天小杭完成了三项任。 1)坑底起来达30%涨幅，我知足，...         NaN        16   \n",
       "4  $杭州银行(SH600926)$ 今天下午2点在杭州庆春路杭州银行总部大楼5楼会议开始，现场...           4        33   \n",
       "\n",
       "  like_num  \n",
       "0        3  \n",
       "1        1  \n",
       "2        9  \n",
       "3        3  \n",
       "4       37  "
      ]
     },
     "execution_count": 146,
     "metadata": {},
     "output_type": "execute_result"
    }
   ],
   "source": [
    "new_stock_comp2.head()"
   ]
  },
  {
   "cell_type": "code",
   "execution_count": 188,
   "metadata": {},
   "outputs": [],
   "source": [
    "def stock_unique_m(code_ls):\n",
    "    '''\n",
    "    input:code_ls\n",
    "    '''\n",
    "    num = 0 \n",
    "    for cs in code_ls:\n",
    "        num += 1\n",
    "        input_file = cs + '.csv'\n",
    "        stock_file = pd.read_csv(input_file)\n",
    "        b = stock_file['user_uid'].unique().tolist()\n",
    "        c = [cs] * len(b)\n",
    "        test_dict = {'unique_id':b,'name':c}\n",
    "        test_dict_df = pd.DataFrame(test_dict)\n",
    "        outfilename = str(num) + cs + '.csv'\n",
    "        test_dict_df.to_csv(outfilename,encoding=\"utf_8_sig\")\n",
    "        print(num)"
   ]
  },
  {
   "cell_type": "code",
   "execution_count": 147,
   "metadata": {},
   "outputs": [],
   "source": [
    "# create a dictionary\n",
    "def find_member(stockname):\n",
    "    dic_1 = {}\n",
    "    filename = stockname + '.csv'\n",
    "    dfm = pd.read_csv(filename)\n",
    "    value = dfm['user_uid'].unique().tolist()\n",
    "    dic_1[stockname] = value\n",
    "    return dic_1[stockname]"
   ]
  },
  {
   "cell_type": "code",
   "execution_count": 142,
   "metadata": {},
   "outputs": [
    {
     "data": {
      "text/plain": [
       "'\\n\\nstock_comp2.tem[\\'post_md\\'] = stock_comp2.tem[\\'post_md\\'].str.replace(r\"修改于\", \"\").str.replace(r\"今天\", \"07-05\").str.replace(r\"昨天\", \"07-04\").str.replace(r\"分钟前\", \"\").str.replace(r\"小时前\", \"\")\\nfor i in range(0,len(stock_comp2.tem[\\'post_md\\'])):\\n    if len(stock_comp2.tem[\\'post_md\\'][i]) == 5:\\n        stock_comp2.tem[\\'post_md\\'][i] = \\'2020-\\' + stock_comp2.tem[\\'post_md\\'][i]\\n    elif len(stock_comp2.tem[\\'post_md\\'][i]) < 3:\\n        stock_comp2.tem[\\'post_md\\'][i] = \\'2020-07-05\\'\\nstock_comp2.tem[\\'post_md\\'] = pd.to_datetime(stock_comp2.tem[\\'post_md\\'])\\n\\n'"
      ]
     },
     "execution_count": 142,
     "metadata": {},
     "output_type": "execute_result"
    }
   ],
   "source": [
    "# 用正则表达式及进行修改\n",
    "# 无用的字符包括：昨天:07-04; 今天：07-05；修改于 ‘’ ，分钟前，小时前\n",
    "\n",
    "'''\n",
    "stock_comp2.tem['post_md'] = stock_comp2.tem['post_md'].str.replace(r\"修改于\", \"\").str.replace(r\"今天\", \"07-05\").str.replace(r\"昨天\", \"07-04\").str.replace(r\"分钟前\", \"\").str.replace(r\"小时前\", \"\")\n",
    "for i in range(0,len(stock_comp2.tem['post_md'])):\n",
    "    if len(stock_comp2.tem['post_md'][i]) == 5:\n",
    "        stock_comp2.tem['post_md'][i] = '2020-' + stock_comp2.tem['post_md'][i]\n",
    "    elif len(stock_comp2.tem['post_md'][i]) < 3:\n",
    "        stock_comp2.tem['post_md'][i] = '2020-07-05'\n",
    "stock_comp2.tem['post_md'] = pd.to_datetime(stock_comp2.tem['post_md'])\n",
    "\n",
    "'''"
   ]
  },
  {
   "cell_type": "code",
   "execution_count": 174,
   "metadata": {},
   "outputs": [],
   "source": [
    "b = find_old_stock(new_stock_comp2,'2019-12-30') #在用这个方法找到了之后，要人工操作，进行数据透视表分析，将不符合的股票挑选出来"
   ]
  },
  {
   "cell_type": "code",
   "execution_count": 254,
   "metadata": {},
   "outputs": [
    {
     "data": {
      "text/plain": [
       "'SZ300498'"
      ]
     },
     "execution_count": 254,
     "metadata": {},
     "output_type": "execute_result"
    }
   ],
   "source": [
    "use_stock = find_use_stock('rr.csv',250,new_stock_comp2)\n",
    "use_stock[1]"
   ]
  },
  {
   "cell_type": "code",
   "execution_count": 228,
   "metadata": {
    "scrolled": true
   },
   "outputs": [],
   "source": [
    "def stock_unique_m(code_ls):\n",
    "    '''\n",
    "    input:code_ls\n",
    "    '''\n",
    "    num = 0 \n",
    "    for cs in code_ls:\n",
    "        num += 1\n",
    "        input_file = cs + '.csv'\n",
    "        stock_file = pd.read_csv(input_file)\n",
    "        b = stock_file['user_uid'].unique().tolist()\n",
    "        c = [cs] * len(b)\n",
    "        test_dict = {'unique_id':b,'name':c}\n",
    "        test_dict_df = pd.DataFrame(test_dict)\n",
    "        outfilename = str(num) + cs + '.csv'\n",
    "        test_dict_df.to_csv(outfilename,encoding=\"utf_8_sig\")\n",
    "        print(num)\n"
   ]
  },
  {
   "cell_type": "code",
   "execution_count": 273,
   "metadata": {},
   "outputs": [
    {
     "name": "stderr",
     "output_type": "stream",
     "text": [
      "C:\\Users\\Admin\\anaconda3\\lib\\site-packages\\ipykernel_launcher.py:10: SettingWithCopyWarning: \n",
      "A value is trying to be set on a copy of a slice from a DataFrame.\n",
      "Try using .loc[row_indexer,col_indexer] = value instead\n",
      "\n",
      "See the caveats in the documentation: https://pandas.pydata.org/pandas-docs/stable/user_guide/indexing.html#returning-a-view-versus-a-copy\n",
      "  # Remove the CWD from sys.path while we load stuff.\n",
      "C:\\Users\\Admin\\anaconda3\\lib\\site-packages\\ipykernel_launcher.py:11: SettingWithCopyWarning: \n",
      "A value is trying to be set on a copy of a slice from a DataFrame.\n",
      "Try using .loc[row_indexer,col_indexer] = value instead\n",
      "\n",
      "See the caveats in the documentation: https://pandas.pydata.org/pandas-docs/stable/user_guide/indexing.html#returning-a-view-versus-a-copy\n",
      "  # This is added back by InteractiveShellApp.init_path()\n",
      "C:\\Users\\Admin\\anaconda3\\lib\\site-packages\\ipykernel_launcher.py:12: SettingWithCopyWarning: \n",
      "A value is trying to be set on a copy of a slice from a DataFrame.\n",
      "Try using .loc[row_indexer,col_indexer] = value instead\n",
      "\n",
      "See the caveats in the documentation: https://pandas.pydata.org/pandas-docs/stable/user_guide/indexing.html#returning-a-view-versus-a-copy\n",
      "  if sys.path[0] == '':\n"
     ]
    },
    {
     "data": {
      "text/html": [
       "<div>\n",
       "<style scoped>\n",
       "    .dataframe tbody tr th:only-of-type {\n",
       "        vertical-align: middle;\n",
       "    }\n",
       "\n",
       "    .dataframe tbody tr th {\n",
       "        vertical-align: top;\n",
       "    }\n",
       "\n",
       "    .dataframe thead th {\n",
       "        text-align: right;\n",
       "    }\n",
       "</style>\n",
       "<table border=\"1\" class=\"dataframe\">\n",
       "  <thead>\n",
       "    <tr style=\"text-align: right;\">\n",
       "      <th></th>\n",
       "      <th>stock_code</th>\n",
       "      <th>user_name</th>\n",
       "      <th>user_uid</th>\n",
       "      <th>follow</th>\n",
       "      <th>fans</th>\n",
       "      <th>portfolio</th>\n",
       "    </tr>\n",
       "  </thead>\n",
       "  <tbody>\n",
       "    <tr>\n",
       "      <th>40</th>\n",
       "      <td>SZ300498</td>\n",
       "      <td>林不奇</td>\n",
       "      <td>2163495547</td>\n",
       "      <td>https://xueqiu.com/u/2163495547#/follow</td>\n",
       "      <td>https://xueqiu.com/u/2163495547#/fans</td>\n",
       "      <td>https://xueqiu.com/u/2163495547#/portfolio</td>\n",
       "    </tr>\n",
       "    <tr>\n",
       "      <th>41</th>\n",
       "      <td>SZ300498</td>\n",
       "      <td>消费50ETF</td>\n",
       "      <td>3240181688</td>\n",
       "      <td>https://xueqiu.com/u/3240181688#/follow</td>\n",
       "      <td>https://xueqiu.com/u/3240181688#/fans</td>\n",
       "      <td>https://xueqiu.com/u/3240181688#/portfolio</td>\n",
       "    </tr>\n",
       "    <tr>\n",
       "      <th>42</th>\n",
       "      <td>SZ300498</td>\n",
       "      <td>一凡帝诺维奇</td>\n",
       "      <td>1632625377</td>\n",
       "      <td>https://xueqiu.com/u/1632625377#/follow</td>\n",
       "      <td>https://xueqiu.com/u/1632625377#/fans</td>\n",
       "      <td>https://xueqiu.com/u/1632625377#/portfolio</td>\n",
       "    </tr>\n",
       "    <tr>\n",
       "      <th>43</th>\n",
       "      <td>SZ300498</td>\n",
       "      <td>无产小散</td>\n",
       "      <td>4034543428</td>\n",
       "      <td>https://xueqiu.com/u/4034543428#/follow</td>\n",
       "      <td>https://xueqiu.com/u/4034543428#/fans</td>\n",
       "      <td>https://xueqiu.com/u/4034543428#/portfolio</td>\n",
       "    </tr>\n",
       "    <tr>\n",
       "      <th>44</th>\n",
       "      <td>SZ300498</td>\n",
       "      <td>72派</td>\n",
       "      <td>6060554600</td>\n",
       "      <td>https://xueqiu.com/u/6060554600#/follow</td>\n",
       "      <td>https://xueqiu.com/u/6060554600#/fans</td>\n",
       "      <td>https://xueqiu.com/u/6060554600#/portfolio</td>\n",
       "    </tr>\n",
       "  </tbody>\n",
       "</table>\n",
       "</div>"
      ],
      "text/plain": [
       "   stock_code user_name    user_uid                                   follow  \\\n",
       "40   SZ300498       林不奇  2163495547  https://xueqiu.com/u/2163495547#/follow   \n",
       "41   SZ300498   消费50ETF  3240181688  https://xueqiu.com/u/3240181688#/follow   \n",
       "42   SZ300498    一凡帝诺维奇  1632625377  https://xueqiu.com/u/1632625377#/follow   \n",
       "43   SZ300498      无产小散  4034543428  https://xueqiu.com/u/4034543428#/follow   \n",
       "44   SZ300498       72派  6060554600  https://xueqiu.com/u/6060554600#/follow   \n",
       "\n",
       "                                     fans  \\\n",
       "40  https://xueqiu.com/u/2163495547#/fans   \n",
       "41  https://xueqiu.com/u/3240181688#/fans   \n",
       "42  https://xueqiu.com/u/1632625377#/fans   \n",
       "43  https://xueqiu.com/u/4034543428#/fans   \n",
       "44  https://xueqiu.com/u/6060554600#/fans   \n",
       "\n",
       "                                     portfolio  \n",
       "40  https://xueqiu.com/u/2163495547#/portfolio  \n",
       "41  https://xueqiu.com/u/3240181688#/portfolio  \n",
       "42  https://xueqiu.com/u/1632625377#/portfolio  \n",
       "43  https://xueqiu.com/u/4034543428#/portfolio  \n",
       "44  https://xueqiu.com/u/6060554600#/portfolio  "
      ]
     },
     "execution_count": 273,
     "metadata": {},
     "output_type": "execute_result"
    }
   ],
   "source": [
    "ddf = new_stock_comp2.loc[new_stock_comp2['stock_code'] == 'SZ300498']\n",
    "ddf_new = ddf.drop_duplicates(['user_uid'])\n",
    "# 关注的人\n",
    "# https://xueqiu.com/u/2163495547#/follow\n",
    "# 粉丝\n",
    "# https://xueqiu.com/u/2163495547#/fans\n",
    "# 投资组合\n",
    "# https://xueqiu.com/u/2163495547#/portfolio\n",
    "# df[\"new\"] =[ 'Depth % i' % i for i in df[\"Depth\"]]\n",
    "ddf_new['follow'] = 'https://xueqiu.com/u/' + ddf_new['user_uid'] + '#/follow'\n",
    "ddf_new['fans'] = 'https://xueqiu.com/u/' + ddf_new['user_uid'] + '#/fans'\n",
    "ddf_new['portfolio'] = 'https://xueqiu.com/u/' + ddf_new['user_uid'] + '#/portfolio'\n",
    "# 去掉冗余信息\n",
    "# dt = dt.drop(['密度', '含糖率'], axis=1)\n",
    "ddf_new = ddf_new.drop(['post_md','post_hm','content','retweet_num','reply_num','like_num'], axis=1)\n",
    "ddf_new.head()"
   ]
  },
  {
   "cell_type": "code",
   "execution_count": null,
   "metadata": {},
   "outputs": [],
   "source": [
    "# 首先将某个股票下的用户群找到，然后再对表格进行操作\n",
    "# 得到的结果：本地会存储大量的文件，包括各种列表，先跑follow的逻辑，并将其进行储存，然后再跑fans，在得到结果后，将数张表格进行合并，进行社交网络的创建\n",
    "# 最后还需要一个大文件，里面包含所有的关系网络，看看不同股票之间的交集"
   ]
  },
  {
   "cell_type": "code",
   "execution_count": 275,
   "metadata": {},
   "outputs": [],
   "source": [
    "def stock_unique_m(code_ls,rawdf):\n",
    "    '''\n",
    "    输入是要抓取的股票的代号\n",
    "    输出是一个表，表中包括以下三列，分别是user_id，关注、粉丝和组合的link\n",
    "    '''\n",
    "    num = 1000\n",
    "    for cs in code_ls:\n",
    "        num += 1\n",
    "        ddf = rawdf.loc[rawdf['stock_code'] == cs]\n",
    "        ddf_new = ddf.drop_duplicates(['user_uid'])\n",
    "        ddf_new['follow'] = 'https://xueqiu.com/u/' + ddf_new['user_uid'] + '#/follow'\n",
    "        ddf_new['fans'] = 'https://xueqiu.com/u/' + ddf_new['user_uid'] + '#/fans'\n",
    "        ddf_new['portfolio'] = 'https://xueqiu.com/u/' + ddf_new['user_uid'] + '#/portfolio'\n",
    "        ddf_new = ddf_new.drop(['post_md','post_hm','content','retweet_num','reply_num','like_num'], axis=1)\n",
    "        outfilename = str(num) + cs + '.csv'\n",
    "        ddf_new.to_csv(outfilename,encoding=\"utf_8_sig\")"
   ]
  },
  {
   "cell_type": "code",
   "execution_count": 276,
   "metadata": {},
   "outputs": [
    {
     "name": "stderr",
     "output_type": "stream",
     "text": [
      "C:\\Users\\Admin\\anaconda3\\lib\\site-packages\\ipykernel_launcher.py:11: SettingWithCopyWarning: \n",
      "A value is trying to be set on a copy of a slice from a DataFrame.\n",
      "Try using .loc[row_indexer,col_indexer] = value instead\n",
      "\n",
      "See the caveats in the documentation: https://pandas.pydata.org/pandas-docs/stable/user_guide/indexing.html#returning-a-view-versus-a-copy\n",
      "  # This is added back by InteractiveShellApp.init_path()\n",
      "C:\\Users\\Admin\\anaconda3\\lib\\site-packages\\ipykernel_launcher.py:12: SettingWithCopyWarning: \n",
      "A value is trying to be set on a copy of a slice from a DataFrame.\n",
      "Try using .loc[row_indexer,col_indexer] = value instead\n",
      "\n",
      "See the caveats in the documentation: https://pandas.pydata.org/pandas-docs/stable/user_guide/indexing.html#returning-a-view-versus-a-copy\n",
      "  if sys.path[0] == '':\n",
      "C:\\Users\\Admin\\anaconda3\\lib\\site-packages\\ipykernel_launcher.py:13: SettingWithCopyWarning: \n",
      "A value is trying to be set on a copy of a slice from a DataFrame.\n",
      "Try using .loc[row_indexer,col_indexer] = value instead\n",
      "\n",
      "See the caveats in the documentation: https://pandas.pydata.org/pandas-docs/stable/user_guide/indexing.html#returning-a-view-versus-a-copy\n",
      "  del sys.path[0]\n"
     ]
    }
   ],
   "source": [
    "stock_unique_m(use_stock,new_stock_comp2)"
   ]
  }
 ],
 "metadata": {
  "kernelspec": {
   "display_name": "Python 3",
   "language": "python",
   "name": "python3"
  },
  "language_info": {
   "codemirror_mode": {
    "name": "ipython",
    "version": 3
   },
   "file_extension": ".py",
   "mimetype": "text/x-python",
   "name": "python",
   "nbconvert_exporter": "python",
   "pygments_lexer": "ipython3",
   "version": "3.7.6"
  }
 },
 "nbformat": 4,
 "nbformat_minor": 2
}
