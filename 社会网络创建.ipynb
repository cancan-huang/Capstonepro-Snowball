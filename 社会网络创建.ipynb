{
 "cells": [
  {
   "cell_type": "code",
   "execution_count": 1,
   "metadata": {},
   "outputs": [],
   "source": [
    "import pandas as pd\n",
    "import numpy as np"
   ]
  },
  {
   "cell_type": "code",
   "execution_count": 117,
   "metadata": {},
   "outputs": [],
   "source": [
    "rawdf = pd.read_csv('follower-tst-xinlitai.csv')"
   ]
  },
  {
   "cell_type": "code",
   "execution_count": 6,
   "metadata": {},
   "outputs": [
    {
     "data": {
      "text/html": [
       "<div>\n",
       "<style scoped>\n",
       "    .dataframe tbody tr th:only-of-type {\n",
       "        vertical-align: middle;\n",
       "    }\n",
       "\n",
       "    .dataframe tbody tr th {\n",
       "        vertical-align: top;\n",
       "    }\n",
       "\n",
       "    .dataframe thead th {\n",
       "        text-align: right;\n",
       "    }\n",
       "</style>\n",
       "<table border=\"1\" class=\"dataframe\">\n",
       "  <thead>\n",
       "    <tr style=\"text-align: right;\">\n",
       "      <th></th>\n",
       "      <th>标题</th>\n",
       "      <th>用户_链接</th>\n",
       "      <th>用户</th>\n",
       "      <th>字段</th>\n",
       "      <th>页面网址</th>\n",
       "      <th>Unnamed: 5</th>\n",
       "      <th>Unnamed: 6</th>\n",
       "      <th>Unnamed: 7</th>\n",
       "      <th>Unnamed: 8</th>\n",
       "    </tr>\n",
       "  </thead>\n",
       "  <tbody>\n",
       "    <tr>\n",
       "      <th>0</th>\n",
       "      <td>白马大侠</td>\n",
       "      <td>https://xueqiu.com/4224679077</td>\n",
       "      <td>24913 粉丝|120 关注|2175 帖子</td>\n",
       "      <td>价值选股，趋势定仓</td>\n",
       "      <td>https://xueqiu.com/u/6405911882#/follow</td>\n",
       "      <td>NaN</td>\n",
       "      <td>NaN</td>\n",
       "      <td>NaN</td>\n",
       "      <td>NaN</td>\n",
       "    </tr>\n",
       "    <tr>\n",
       "      <th>1</th>\n",
       "      <td>百创资本陈子仪</td>\n",
       "      <td>https://xueqiu.com/4403644081</td>\n",
       "      <td>33110 粉丝|172 关注|155 帖子</td>\n",
       "      <td>我从2001年开始投资，2001年到2008年主要投资A股B股，2009年开始专注港股和美股...</td>\n",
       "      <td>https://xueqiu.com/u/6405911882#/follow</td>\n",
       "      <td>NaN</td>\n",
       "      <td>NaN</td>\n",
       "      <td>NaN</td>\n",
       "      <td>NaN</td>\n",
       "    </tr>\n",
       "    <tr>\n",
       "      <th>2</th>\n",
       "      <td>木文田</td>\n",
       "      <td>https://xueqiu.com/1621361008</td>\n",
       "      <td>13871 粉丝|164 关注|665 帖子</td>\n",
       "      <td>证券市场里的钱是一种很骄傲的东西，它会用深入骨髓的眼光透视你灵魂深处的弱点，然后化身出最诱惑...</td>\n",
       "      <td>https://xueqiu.com/u/6405911882#/follow</td>\n",
       "      <td>NaN</td>\n",
       "      <td>NaN</td>\n",
       "      <td>NaN</td>\n",
       "      <td>NaN</td>\n",
       "    </tr>\n",
       "    <tr>\n",
       "      <th>3</th>\n",
       "      <td>价值事务所</td>\n",
       "      <td>https://xueqiu.com/1859139457</td>\n",
       "      <td>37699 粉丝|48 关注|1034 帖子</td>\n",
       "      <td>微信公众号：价值事务所</td>\n",
       "      <td>https://xueqiu.com/u/6405911882#/follow</td>\n",
       "      <td>NaN</td>\n",
       "      <td>NaN</td>\n",
       "      <td>NaN</td>\n",
       "      <td>NaN</td>\n",
       "    </tr>\n",
       "    <tr>\n",
       "      <th>4</th>\n",
       "      <td>青侨阳光</td>\n",
       "      <td>https://xueqiu.com/houqiang</td>\n",
       "      <td>51157 粉丝|233 关注|292 帖子</td>\n",
       "      <td>聚焦医药。谦逊而坚韧，冗余而穿透。</td>\n",
       "      <td>https://xueqiu.com/u/6405911882#/follow</td>\n",
       "      <td>NaN</td>\n",
       "      <td>NaN</td>\n",
       "      <td>NaN</td>\n",
       "      <td>NaN</td>\n",
       "    </tr>\n",
       "  </tbody>\n",
       "</table>\n",
       "</div>"
      ],
      "text/plain": [
       "        标题                          用户_链接                       用户  \\\n",
       "0     白马大侠  https://xueqiu.com/4224679077  24913 粉丝|120 关注|2175 帖子   \n",
       "1  百创资本陈子仪  https://xueqiu.com/4403644081   33110 粉丝|172 关注|155 帖子   \n",
       "2      木文田  https://xueqiu.com/1621361008   13871 粉丝|164 关注|665 帖子   \n",
       "3    价值事务所  https://xueqiu.com/1859139457   37699 粉丝|48 关注|1034 帖子   \n",
       "4     青侨阳光    https://xueqiu.com/houqiang   51157 粉丝|233 关注|292 帖子   \n",
       "\n",
       "                                                  字段  \\\n",
       "0                                          价值选股，趋势定仓   \n",
       "1  我从2001年开始投资，2001年到2008年主要投资A股B股，2009年开始专注港股和美股...   \n",
       "2  证券市场里的钱是一种很骄傲的东西，它会用深入骨髓的眼光透视你灵魂深处的弱点，然后化身出最诱惑...   \n",
       "3                                        微信公众号：价值事务所   \n",
       "4                                  聚焦医药。谦逊而坚韧，冗余而穿透。   \n",
       "\n",
       "                                      页面网址 Unnamed: 5 Unnamed: 6 Unnamed: 7  \\\n",
       "0  https://xueqiu.com/u/6405911882#/follow        NaN        NaN        NaN   \n",
       "1  https://xueqiu.com/u/6405911882#/follow        NaN        NaN        NaN   \n",
       "2  https://xueqiu.com/u/6405911882#/follow        NaN        NaN        NaN   \n",
       "3  https://xueqiu.com/u/6405911882#/follow        NaN        NaN        NaN   \n",
       "4  https://xueqiu.com/u/6405911882#/follow        NaN        NaN        NaN   \n",
       "\n",
       "  Unnamed: 8  \n",
       "0        NaN  \n",
       "1        NaN  \n",
       "2        NaN  \n",
       "3        NaN  \n",
       "4        NaN  "
      ]
     },
     "execution_count": 6,
     "metadata": {},
     "output_type": "execute_result"
    }
   ],
   "source": [
    "rawdf.head()"
   ]
  },
  {
   "cell_type": "code",
   "execution_count": 129,
   "metadata": {},
   "outputs": [
    {
     "data": {
      "text/plain": [
       "\"\\ndel rawdf['标题']\\ndel rawdf['字段']\\ndel rawdf['Unnamed: 5']\\ndel rawdf['Unnamed: 6']\\ndel rawdf['Unnamed: 7']\\ndel rawdf['Unnamed: 8']\\n\""
      ]
     },
     "execution_count": 129,
     "metadata": {},
     "output_type": "execute_result"
    }
   ],
   "source": [
    "# 获取其中的follwing和用户\n",
    "# 只保留其中的两列，一列是用户连接 一列页面网址，用户的粉丝数和关注数帖子数留存下来，拆分开作为备用数据，标题可以去掉\n",
    "'''\n",
    "del rawdf['标题']\n",
    "del rawdf['字段']\n",
    "del rawdf['Unnamed: 5']\n",
    "del rawdf['Unnamed: 6']\n",
    "del rawdf['Unnamed: 7']\n",
    "del rawdf['Unnamed: 8']\n",
    "'''"
   ]
  },
  {
   "cell_type": "code",
   "execution_count": 120,
   "metadata": {},
   "outputs": [
    {
     "data": {
      "text/html": [
       "<div>\n",
       "<style scoped>\n",
       "    .dataframe tbody tr th:only-of-type {\n",
       "        vertical-align: middle;\n",
       "    }\n",
       "\n",
       "    .dataframe tbody tr th {\n",
       "        vertical-align: top;\n",
       "    }\n",
       "\n",
       "    .dataframe thead th {\n",
       "        text-align: right;\n",
       "    }\n",
       "</style>\n",
       "<table border=\"1\" class=\"dataframe\">\n",
       "  <thead>\n",
       "    <tr style=\"text-align: right;\">\n",
       "      <th></th>\n",
       "      <th>用户_链接</th>\n",
       "      <th>用户</th>\n",
       "      <th>页面网址</th>\n",
       "    </tr>\n",
       "  </thead>\n",
       "  <tbody>\n",
       "    <tr>\n",
       "      <th>0</th>\n",
       "      <td>https://xueqiu.com/4224679077</td>\n",
       "      <td>24913 粉丝|120 关注|2175 帖子</td>\n",
       "      <td>https://xueqiu.com/u/6405911882#/follow</td>\n",
       "    </tr>\n",
       "    <tr>\n",
       "      <th>1</th>\n",
       "      <td>https://xueqiu.com/4403644081</td>\n",
       "      <td>33110 粉丝|172 关注|155 帖子</td>\n",
       "      <td>https://xueqiu.com/u/6405911882#/follow</td>\n",
       "    </tr>\n",
       "    <tr>\n",
       "      <th>2</th>\n",
       "      <td>https://xueqiu.com/1621361008</td>\n",
       "      <td>13871 粉丝|164 关注|665 帖子</td>\n",
       "      <td>https://xueqiu.com/u/6405911882#/follow</td>\n",
       "    </tr>\n",
       "    <tr>\n",
       "      <th>3</th>\n",
       "      <td>https://xueqiu.com/1859139457</td>\n",
       "      <td>37699 粉丝|48 关注|1034 帖子</td>\n",
       "      <td>https://xueqiu.com/u/6405911882#/follow</td>\n",
       "    </tr>\n",
       "    <tr>\n",
       "      <th>4</th>\n",
       "      <td>https://xueqiu.com/houqiang</td>\n",
       "      <td>51157 粉丝|233 关注|292 帖子</td>\n",
       "      <td>https://xueqiu.com/u/6405911882#/follow</td>\n",
       "    </tr>\n",
       "  </tbody>\n",
       "</table>\n",
       "</div>"
      ],
      "text/plain": [
       "                           用户_链接                       用户  \\\n",
       "0  https://xueqiu.com/4224679077  24913 粉丝|120 关注|2175 帖子   \n",
       "1  https://xueqiu.com/4403644081   33110 粉丝|172 关注|155 帖子   \n",
       "2  https://xueqiu.com/1621361008   13871 粉丝|164 关注|665 帖子   \n",
       "3  https://xueqiu.com/1859139457   37699 粉丝|48 关注|1034 帖子   \n",
       "4    https://xueqiu.com/houqiang   51157 粉丝|233 关注|292 帖子   \n",
       "\n",
       "                                      页面网址  \n",
       "0  https://xueqiu.com/u/6405911882#/follow  \n",
       "1  https://xueqiu.com/u/6405911882#/follow  \n",
       "2  https://xueqiu.com/u/6405911882#/follow  \n",
       "3  https://xueqiu.com/u/6405911882#/follow  \n",
       "4  https://xueqiu.com/u/6405911882#/follow  "
      ]
     },
     "execution_count": 120,
     "metadata": {},
     "output_type": "execute_result"
    }
   ],
   "source": [
    "rawdf.head()"
   ]
  },
  {
   "cell_type": "code",
   "execution_count": 121,
   "metadata": {},
   "outputs": [
    {
     "name": "stdout",
     "output_type": "stream",
     "text": [
      "  fans_num following_num posts_num following_uid crowd_member_uid\n",
      "0    24913           120      2175    4224679077       6405911882\n",
      "1    33110           172       155    4403644081       6405911882\n",
      "2    13871           164       665    1621361008       6405911882\n",
      "3    37699            48      1034    1859139457       6405911882\n",
      "4    51157           233       292      houqiang       6405911882\n"
     ]
    }
   ],
   "source": [
    "# 先分割在进行数据合并\n",
    "rawdf1 = rawdf['用户'].str.split('|',expand=True)\n",
    "#print(rawdf1.head())\n",
    "newnames = ['fans_num','following_num','posts_num']\n",
    "rawdf1.columns = newnames\n",
    "#print(rawdf1.head())\n",
    "# process the fans number and the following number\n",
    "rawdf['fans_num']  = rawdf1['fans_num'].str.split(' ',expand=True)[0]\n",
    "rawdf['following_num']  = rawdf1['following_num'].str.split(' ',expand=True)[0]\n",
    "rawdf['posts_num']  = rawdf1['posts_num'].str.split(' ',expand=True)[0]\n",
    "rawdf['following_uid']  = rawdf['用户_链接'].str[19:]\n",
    "rawdf['crowd_member_uid']  = rawdf['页面网址'].str[21:].str.split('#',expand=True)[0]\n",
    "del rawdf['用户_链接']\n",
    "del rawdf['用户']\n",
    "del rawdf['页面网址']\n",
    "print(rawdf.head())\n"
   ]
  },
  {
   "cell_type": "code",
   "execution_count": 122,
   "metadata": {},
   "outputs": [
    {
     "name": "stdout",
     "output_type": "stream",
     "text": [
      "  crowd_member_uid following_uid fans_num following_num posts_num\n",
      "0       6405911882    4224679077    24913           120      2175\n",
      "1       6405911882    4403644081    33110           172       155\n",
      "2       6405911882    1621361008    13871           164       665\n",
      "3       6405911882    1859139457    37699            48      1034\n",
      "4       6405911882      houqiang    51157           233       292\n"
     ]
    }
   ],
   "source": [
    "order = ['crowd_member_uid','following_uid','fans_num','following_num','posts_num']\n",
    "followingls_df = rawdf[order]\n",
    "print(followingls_df.head())"
   ]
  },
  {
   "cell_type": "code",
   "execution_count": 128,
   "metadata": {},
   "outputs": [],
   "source": [
    "#再建立一张表是crowd members\n",
    "cwdf = pd.read_csv('xinlitai_crowd_member.csv')\n",
    "#print(cwdf)\n",
    "members_ls =cwdf[\"crowd_members\"].tolist()\n",
    "#print(members_ls)\n",
    "#len(members_ls)"
   ]
  },
  {
   "cell_type": "code",
   "execution_count": 132,
   "metadata": {},
   "outputs": [],
   "source": [
    "# create the network\n",
    "cw_netdf = followingls_df.loc[followingls_df['following_uid'].isin(members_ls)]\n",
    "# 如果没有联系的crowd如何加进去呢？"
   ]
  },
  {
   "cell_type": "code",
   "execution_count": 157,
   "metadata": {},
   "outputs": [
    {
     "name": "stderr",
     "output_type": "stream",
     "text": [
      "C:\\Users\\Lenovo\\Anaconda3\\lib\\site-packages\\ipykernel_launcher.py:12: SettingWithCopyWarning: \n",
      "A value is trying to be set on a copy of a slice from a DataFrame.\n",
      "Try using .loc[row_indexer,col_indexer] = value instead\n",
      "\n",
      "See the caveats in the documentation: http://pandas.pydata.org/pandas-docs/stable/indexing.html#indexing-view-versus-copy\n",
      "  if sys.path[0] == '':\n"
     ]
    },
    {
     "name": "stdout",
     "output_type": "stream",
     "text": [
      "      members stock_name stock_code\n",
      "0  6405911882        信立泰  SZ:002294\n",
      "1  8890117734        信立泰  SZ:002294\n",
      "2  8960894035        信立泰  SZ:002294\n",
      "3  6405911882        信立泰  SZ:002294\n",
      "4  8960894035        信立泰  SZ:002294\n"
     ]
    },
    {
     "name": "stderr",
     "output_type": "stream",
     "text": [
      "C:\\Users\\Lenovo\\Anaconda3\\lib\\site-packages\\ipykernel_launcher.py:13: SettingWithCopyWarning: \n",
      "A value is trying to be set on a copy of a slice from a DataFrame.\n",
      "Try using .loc[row_indexer,col_indexer] = value instead\n",
      "\n",
      "See the caveats in the documentation: http://pandas.pydata.org/pandas-docs/stable/indexing.html#indexing-view-versus-copy\n",
      "  del sys.path[0]\n",
      "C:\\Users\\Lenovo\\Anaconda3\\lib\\site-packages\\ipykernel_launcher.py:14: SettingWithCopyWarning: \n",
      "A value is trying to be set on a copy of a slice from a DataFrame.\n",
      "Try using .loc[row_indexer,col_indexer] = value instead\n",
      "\n",
      "See the caveats in the documentation: http://pandas.pydata.org/pandas-docs/stable/indexing.html#indexing-view-versus-copy\n",
      "  \n"
     ]
    }
   ],
   "source": [
    "# 原始数据表处理\n",
    "# 将不同公司的数据表分开，同时合并文件进行ml的训练\n",
    "# following和follower一起采集\n",
    "commentdf = pd.read_csv('stockcomment-tst.csv')\n",
    "#commentdf.head()\n",
    "# 先要将表分开，将各个股票自己成为一个表\n",
    "# 对表格进行处理，将用户和股票代码提取出来\n",
    "stock_cwms =  commentdf[['文本','用户_链接']]\n",
    "stock_cwms1 = stock_cwms['文本'].str.split('(',expand=True)\n",
    "stock_cwms1.columns = ['stock_name','stock_code']\n",
    "#print(stock_cwms1)\n",
    "stock_cwms['members'] = stock_cwms['用户_链接'].str[19:]\n",
    "stock_cwms['stock_name'] = stock_cwms1['stock_name']\n",
    "stock_cwms['stock_code'] = stock_cwms1['stock_code'].str[:9]\n",
    "del stock_cwms['文本']\n",
    "del stock_cwms['用户_链接']\n"
   ]
  },
  {
   "cell_type": "code",
   "execution_count": 163,
   "metadata": {},
   "outputs": [
    {
     "name": "stdout",
     "output_type": "stream",
     "text": [
      "        members stock_name stock_code\n",
      "0    6405911882        信立泰  SZ:002294\n",
      "1    8890117734        信立泰  SZ:002294\n",
      "2    8960894035        信立泰  SZ:002294\n",
      "3    6405911882        信立泰  SZ:002294\n",
      "4    8960894035        信立泰  SZ:002294\n",
      "5    8960894035        信立泰  SZ:002294\n",
      "6    8960894035        信立泰  SZ:002294\n",
      "7    9956679466        信立泰  SZ:002294\n",
      "8    5244250798        信立泰  SZ:002294\n",
      "9    8960894035        信立泰  SZ:002294\n",
      "10   2054567330        信立泰  SZ:002294\n",
      "11   9956679466        信立泰  SZ:002294\n",
      "12   4255434670        信立泰  SZ:002294\n",
      "13   8960894035        信立泰  SZ:002294\n",
      "14   9956679466        信立泰  SZ:002294\n",
      "15   1597977269        信立泰  SZ:002294\n",
      "16   9956679466        信立泰  SZ:002294\n",
      "17   5896904950        信立泰  SZ:002294\n",
      "18   9956679466        信立泰  SZ:002294\n",
      "19   8960894035        信立泰  SZ:002294\n",
      "20   8801386347        信立泰  SZ:002294\n",
      "21   8890117734        信立泰  SZ:002294\n",
      "22   8801386347        信立泰  SZ:002294\n",
      "23   4365015103        信立泰  SZ:002294\n",
      "24   8960894035        信立泰  SZ:002294\n",
      "25   4365015103        信立泰  SZ:002294\n",
      "26   9760864983        信立泰  SZ:002294\n",
      "27   8801386347        信立泰  SZ:002294\n",
      "28   9937612146        信立泰  SZ:002294\n",
      "29   8960894035        信立泰  SZ:002294\n",
      "..          ...        ...        ...\n",
      "948  S/SZ002294        信立泰  SZ:002294\n",
      "949  2054567330        信立泰  SZ:002294\n",
      "950  7118787096        信立泰  SZ:002294\n",
      "951  2162814030        信立泰  SZ:002294\n",
      "952  1124246550        信立泰  SZ:002294\n",
      "953  5529097182        信立泰  SZ:002294\n",
      "954  9117828752        信立泰  SZ:002294\n",
      "955  1090515026        信立泰  SZ:002294\n",
      "956  3736401327        信立泰  SZ:002294\n",
      "957  5915208672        信立泰  SZ:002294\n",
      "958  9127261367        信立泰  SZ:002294\n",
      "959  7902310144        信立泰  SZ:002294\n",
      "960  6405911882        信立泰  SZ:002294\n",
      "961  8920162574        信立泰  SZ:002294\n",
      "962  1090698117        信立泰  SZ:002294\n",
      "963  2070722661        信立泰  SZ:002294\n",
      "964  7995619023        信立泰  SZ:002294\n",
      "965  5896904950        信立泰  SZ:002294\n",
      "966  9844709892        信立泰  SZ:002294\n",
      "967  5664378605        信立泰  SZ:002294\n",
      "968  1463934057        信立泰  SZ:002294\n",
      "969  6139926395        信立泰  SZ:002294\n",
      "970  1437759636        信立泰  SZ:002294\n",
      "971  2382283367        信立泰  SZ:002294\n",
      "972  2382561132        信立泰  SZ:002294\n",
      "973  1260671177        信立泰  SZ:002294\n",
      "974      zongge        信立泰  SZ:002294\n",
      "975  6379438524        信立泰  SZ:002294\n",
      "976  7466959957        信立泰  SZ:002294\n",
      "977  2609644325        信立泰  SZ:002294\n",
      "\n",
      "[978 rows x 3 columns]\n"
     ]
    }
   ],
   "source": [
    "#print(stock_cwms.head())\n",
    "df1 = stock_cwms.loc[stock_cwms['stock_code'] == 'SZ:002294']\n",
    "print(df1)"
   ]
  },
  {
   "cell_type": "code",
   "execution_count": null,
   "metadata": {},
   "outputs": [],
   "source": []
  },
  {
   "cell_type": "code",
   "execution_count": null,
   "metadata": {},
   "outputs": [],
   "source": [
    "import pickle\n",
    "# pkl包系列，用于数据的处理和读取\n",
    "# code source: https://zhuanlan.zhihu.com/p/104492767?from_voters_page=true\n",
    "def save_pkl(path,obj):\n",
    "    pickle_file = open(path,'wb')\n",
    "    pickle.dump(obj, pickle_file)\n",
    "    pickle_file.close()\n",
    "    print(\"保存成功\")\n",
    "def load_pkl(path):\n",
    "    pickle_file = open(path,'rb')\n",
    "    obj=pickle.load(pickle_file)\n",
    "    pickle_file.close()\n",
    "    print(\"读取成功\")\n",
    "    return obj"
   ]
  },
  {
   "cell_type": "code",
   "execution_count": 210,
   "metadata": {},
   "outputs": [],
   "source": [
    "# data preprocess:股票分割\n",
    "def stockdf_split(rawdf,colindex):\n",
    "    '''\n",
    "    input:数据表和code所在列的Index\n",
    "    output:将分割后的数据表保存在本地\n",
    "    需要save pkl函数\n",
    "    此数据不局限于某一特定的数据表\n",
    "    '''\n",
    "    code_ls = rawdf[colindex].unique().tolist()\n",
    "    num = 0\n",
    "    for cds in code_ls:\n",
    "        num += 1\n",
    "        df = rawdf.loc[rawdf[colindex] == cds]\n",
    "        outfilename = cds + '.csv'\n",
    "        df.to_csv(outfilename)\n",
    "        newdf = pd.read_csv(outfilename)\n",
    "        # 标点的问题让文件无法保存，有新数据后修改，不需要有这个Index \n",
    "        path = './' + outfilename[3:]\n",
    "        save_pkl(path,newdf)\n",
    "        print('第'+str(num)+\"个文件保存成功，股票代码为\"+cds)\n",
    "        "
   ]
  },
  {
   "cell_type": "code",
   "execution_count": 220,
   "metadata": {},
   "outputs": [],
   "source": [
    "# 提取每个股票不同的crowd number并创建网址\n",
    "df1 = stock_cwms.loc[stock_cwms['stock_code'] == 'SZ:002294']\n",
    "#print(df1)\n",
    "aa = df1['members'].drop_duplicates()\n",
    "# 再将网址的参数放进去，进行爬取"
   ]
  },
  {
   "cell_type": "code",
   "execution_count": null,
   "metadata": {},
   "outputs": [],
   "source": []
  },
  {
   "cell_type": "code",
   "execution_count": 175,
   "metadata": {},
   "outputs": [],
   "source": []
  },
  {
   "cell_type": "code",
   "execution_count": 176,
   "metadata": {},
   "outputs": [],
   "source": []
  },
  {
   "cell_type": "code",
   "execution_count": null,
   "metadata": {},
   "outputs": [],
   "source": []
  },
  {
   "cell_type": "code",
   "execution_count": 190,
   "metadata": {},
   "outputs": [],
   "source": [
    "\n"
   ]
  },
  {
   "cell_type": "code",
   "execution_count": null,
   "metadata": {},
   "outputs": [],
   "source": []
  }
 ],
 "metadata": {
  "kernelspec": {
   "display_name": "Python 3",
   "language": "python",
   "name": "python3"
  },
  "language_info": {
   "codemirror_mode": {
    "name": "ipython",
    "version": 3
   },
   "file_extension": ".py",
   "mimetype": "text/x-python",
   "name": "python",
   "nbconvert_exporter": "python",
   "pygments_lexer": "ipython3",
   "version": "3.7.3"
  }
 },
 "nbformat": 4,
 "nbformat_minor": 2
}
